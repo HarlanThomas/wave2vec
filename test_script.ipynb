{
 "cells": [
  {
   "cell_type": "code",
   "execution_count": null,
   "metadata": {},
   "outputs": [],
   "source": [
    "python examples/wav2vec/libri_labels.py ~/audio_dataset/LibriSpeech/dev-other/116/288045/train.tsv --output-dir ./output/ --output-name train\n"
   ]
  },
  {
   "cell_type": "code",
   "execution_count": 4,
   "metadata": {
    "ExecuteTime": {
     "end_time": "2020-11-16T03:22:57.046115Z",
     "start_time": "2020-11-16T03:22:57.042627Z"
    }
   },
   "outputs": [],
   "source": [
    "import argparse\n",
    "import os"
   ]
  },
  {
   "cell_type": "code",
   "execution_count": 1,
   "metadata": {
    "ExecuteTime": {
     "end_time": "2020-11-16T03:21:00.373761Z",
     "start_time": "2020-11-16T03:21:00.369543Z"
    }
   },
   "outputs": [],
   "source": [
    "\n",
    "# parser = argparse.ArgumentParser()\n",
    "# args = parser.parse_args()\n",
    "\n",
    "_tsv = '/home/thn/audio_dataset/LibriSpeech/dev-other/116/288045/train.tsv'\n",
    "output_dir = './output/'\n",
    "output_name = 'train'"
   ]
  },
  {
   "cell_type": "code",
   "execution_count": 2,
   "metadata": {
    "ExecuteTime": {
     "end_time": "2020-11-16T03:22:51.116726Z",
     "start_time": "2020-11-16T03:22:51.106720Z"
    },
    "scrolled": true
   },
   "outputs": [
    {
     "ename": "NameError",
     "evalue": "name 'args' is not defined",
     "output_type": "error",
     "traceback": [
      "\u001b[0;31m---------------------------------------------------------------------------\u001b[0m",
      "\u001b[0;31mNameError\u001b[0m                                 Traceback (most recent call last)",
      "\u001b[0;32m<ipython-input-2-e0171aa723d0>\u001b[0m in \u001b[0;36m<module>\u001b[0;34m\u001b[0m\n\u001b[0;32m----> 1\u001b[0;31m \u001b[0margs\u001b[0m\u001b[0;34m.\u001b[0m\u001b[0moutput_dir\u001b[0m\u001b[0;34m\u001b[0m\u001b[0;34m\u001b[0m\u001b[0m\n\u001b[0m",
      "\u001b[0;31mNameError\u001b[0m: name 'args' is not defined"
     ]
    }
   ],
   "source": [
    "args.output_dir"
   ]
  },
  {
   "cell_type": "code",
   "execution_count": 5,
   "metadata": {
    "ExecuteTime": {
     "end_time": "2020-11-16T03:22:59.068813Z",
     "start_time": "2020-11-16T03:22:59.064730Z"
    }
   },
   "outputs": [],
   "source": [
    "os.makedirs(output_dir, exist_ok=True)\n",
    "\n",
    "transcriptions = {}"
   ]
  },
  {
   "cell_type": "code",
   "execution_count": 49,
   "metadata": {
    "ExecuteTime": {
     "end_time": "2020-11-16T07:31:56.319080Z",
     "start_time": "2020-11-16T07:31:56.291714Z"
    }
   },
   "outputs": [
    {
     "name": "stdout",
     "output_type": "stream",
     "text": [
      "1\n",
      "2\n",
      "3\n",
      "4\n",
      "5\n",
      "6\n",
      "7\n",
      "8\n",
      "9\n",
      "10\n",
      "11\n",
      "12\n",
      "13\n",
      "14\n",
      "15\n",
      "16\n",
      "17\n",
      "18\n",
      "19\n",
      "20\n",
      "21\n",
      "22\n",
      "23\n",
      "24\n",
      "25\n",
      "26\n",
      "27\n",
      "28\n",
      "29\n",
      "30\n",
      "31\n",
      "32\n"
     ]
    }
   ],
   "source": [
    "with open(_tsv, \"r\") as tsv, open(\n",
    "    os.path.join(output_dir, output_name + \".ltr\"), \"w\"\n",
    ") as ltr_out, open(\n",
    "    os.path.join(output_dir, output_name + \".wrd\"), \"w\"\n",
    ") as wrd_out:\n",
    "    cnt = 0\n",
    "    root = next(tsv).strip()\n",
    "    for line in tsv:\n",
    "        cnt += 1\n",
    "        print(cnt)\n",
    "        line = line.split('\\t')[0]\n",
    "        dir = line\n",
    "#         dir = os.path.dirname(line) # 返回目录名\n",
    "        if dir not in transcriptions:\n",
    "            parts = dir.split('-')\n",
    "            trans_path = f\"{parts[-3]}-{parts[-2]}.trans.txt\"\n",
    "            path = os.path.join(root, trans_path)\n",
    "            assert os.path.exists(path)\n",
    "            texts = {}\n",
    "            with open(path, \"r\") as trans_f:\n",
    "                for tline in trans_f:\n",
    "                    items = tline.strip().split()\n",
    "                    texts[items[0]] = \" \".join(items[1:])\n",
    "            transcriptions[dir] = texts\n",
    "        part = os.path.basename(line).split(\".\")[0]\n",
    "        assert part in transcriptions[dir]\n",
    "        print(transcriptions[dir][part], file=wrd_out)\n",
    "        print(\n",
    "            \" \".join(list(transcriptions[dir][part].replace(\" \", \"|\"))) + \" |\",\n",
    "            file=ltr_out,\n",
    "        )"
   ]
  },
  {
   "cell_type": "code",
   "execution_count": 50,
   "metadata": {
    "ExecuteTime": {
     "end_time": "2020-11-16T07:32:02.183537Z",
     "start_time": "2020-11-16T07:32:02.178272Z"
    }
   },
   "outputs": [
    {
     "data": {
      "text/plain": [
       "'/home/thn/audio_dataset/LibriSpeech/dev-other/116/288045/116-288045.trans.txt'"
      ]
     },
     "execution_count": 50,
     "metadata": {},
     "output_type": "execute_result"
    }
   ],
   "source": [
    "path"
   ]
  },
  {
   "cell_type": "code",
   "execution_count": 39,
   "metadata": {
    "ExecuteTime": {
     "end_time": "2020-11-16T03:59:17.721288Z",
     "start_time": "2020-11-16T03:59:17.715567Z"
    }
   },
   "outputs": [
    {
     "data": {
      "text/plain": [
       "'116-288045-0031.flac'"
      ]
     },
     "execution_count": 39,
     "metadata": {},
     "output_type": "execute_result"
    }
   ],
   "source": [
    "line = line.split('\\t')[0]\n",
    "line"
   ]
  },
  {
   "cell_type": "code",
   "execution_count": 33,
   "metadata": {
    "ExecuteTime": {
     "end_time": "2020-11-16T03:56:04.381448Z",
     "start_time": "2020-11-16T03:56:04.377805Z"
    }
   },
   "outputs": [],
   "source": [
    "dir = line "
   ]
  },
  {
   "cell_type": "code",
   "execution_count": null,
   "metadata": {
    "ExecuteTime": {
     "end_time": "2020-11-16T03:53:23.262959Z",
     "start_time": "2020-11-16T03:53:23.257739Z"
    }
   },
   "outputs": [],
   "source": [
    "dir = os.path.dirname(line)"
   ]
  },
  {
   "cell_type": "code",
   "execution_count": 51,
   "metadata": {
    "ExecuteTime": {
     "end_time": "2020-11-16T08:35:00.323827Z",
     "start_time": "2020-11-16T08:35:00.318587Z"
    }
   },
   "outputs": [
    {
     "data": {
      "text/plain": [
       "'116-288045-0017.flac'"
      ]
     },
     "execution_count": 51,
     "metadata": {},
     "output_type": "execute_result"
    }
   ],
   "source": [
    "dir"
   ]
  },
  {
   "cell_type": "code",
   "execution_count": 28,
   "metadata": {
    "ExecuteTime": {
     "end_time": "2020-11-16T03:39:32.263056Z",
     "start_time": "2020-11-16T03:39:32.258151Z"
    }
   },
   "outputs": [
    {
     "data": {
      "text/plain": [
       "'/'"
      ]
     },
     "execution_count": 28,
     "metadata": {},
     "output_type": "execute_result"
    }
   ],
   "source": [
    "os.path.sep"
   ]
  },
  {
   "cell_type": "code",
   "execution_count": 27,
   "metadata": {
    "ExecuteTime": {
     "end_time": "2020-11-16T03:39:30.384590Z",
     "start_time": "2020-11-16T03:39:30.379868Z"
    }
   },
   "outputs": [
    {
     "data": {
      "text/plain": [
       "['116-288045-0031.flac\\t117600']"
      ]
     },
     "execution_count": 27,
     "metadata": {},
     "output_type": "execute_result"
    }
   ],
   "source": [
    "parts"
   ]
  },
  {
   "cell_type": "code",
   "execution_count": 22,
   "metadata": {
    "ExecuteTime": {
     "end_time": "2020-11-16T03:38:44.286275Z",
     "start_time": "2020-11-16T03:38:44.281064Z"
    }
   },
   "outputs": [
    {
     "data": {
      "text/plain": [
       "<_io.TextIOWrapper name='/home/thn/audio_dataset/LibriSpeech/dev-other/116/288045/train.tsv' mode='r' encoding='UTF-8'>"
      ]
     },
     "execution_count": 22,
     "metadata": {},
     "output_type": "execute_result"
    }
   ],
   "source": [
    "tsv"
   ]
  },
  {
   "cell_type": "code",
   "execution_count": 47,
   "metadata": {
    "ExecuteTime": {
     "end_time": "2020-11-16T04:03:10.488084Z",
     "start_time": "2020-11-16T04:03:10.482238Z"
    }
   },
   "outputs": [
    {
     "data": {
      "text/plain": [
       "'/home/thn/audio_dataset/LibriSpeech/dev-other/116/288045'"
      ]
     },
     "execution_count": 47,
     "metadata": {},
     "output_type": "execute_result"
    }
   ],
   "source": [
    "root"
   ]
  },
  {
   "cell_type": "code",
   "execution_count": 32,
   "metadata": {
    "ExecuteTime": {
     "end_time": "2020-11-16T03:53:52.015630Z",
     "start_time": "2020-11-16T03:53:52.011823Z"
    }
   },
   "outputs": [],
   "source": [
    "line = '116-288045-0031.flac'"
   ]
  },
  {
   "cell_type": "code",
   "execution_count": 31,
   "metadata": {
    "ExecuteTime": {
     "end_time": "2020-11-16T03:53:39.546238Z",
     "start_time": "2020-11-16T03:53:39.541058Z"
    }
   },
   "outputs": [
    {
     "data": {
      "text/plain": [
       "'116-288045-0031.flac\\t117600'"
      ]
     },
     "execution_count": 31,
     "metadata": {},
     "output_type": "execute_result"
    }
   ],
   "source": [
    "line"
   ]
  },
  {
   "cell_type": "code",
   "execution_count": 19,
   "metadata": {
    "ExecuteTime": {
     "end_time": "2020-11-16T03:37:31.600243Z",
     "start_time": "2020-11-16T03:37:31.594812Z"
    }
   },
   "outputs": [
    {
     "data": {
      "text/plain": [
       "''"
      ]
     },
     "execution_count": 19,
     "metadata": {},
     "output_type": "execute_result"
    }
   ],
   "source": [
    "os.path.dirname(line)"
   ]
  },
  {
   "cell_type": "code",
   "execution_count": 17,
   "metadata": {
    "ExecuteTime": {
     "end_time": "2020-11-16T03:34:07.683293Z",
     "start_time": "2020-11-16T03:34:07.678710Z"
    }
   },
   "outputs": [],
   "source": [
    "with open(_tsv, \"r\") as tsv:\n",
    "    for line in tsv:\n",
    "        line_ = line.strip('\\t')"
   ]
  },
  {
   "cell_type": "code",
   "execution_count": 18,
   "metadata": {
    "ExecuteTime": {
     "end_time": "2020-11-16T03:34:08.950177Z",
     "start_time": "2020-11-16T03:34:08.945085Z"
    }
   },
   "outputs": [
    {
     "data": {
      "text/plain": [
       "'116-288045-0017.flac\\t29200\\n'"
      ]
     },
     "execution_count": 18,
     "metadata": {},
     "output_type": "execute_result"
    }
   ],
   "source": [
    "line_"
   ]
  }
 ],
 "metadata": {
  "kernelspec": {
   "display_name": "Python 3",
   "language": "python",
   "name": "python3"
  },
  "language_info": {
   "codemirror_mode": {
    "name": "ipython",
    "version": 3
   },
   "file_extension": ".py",
   "mimetype": "text/x-python",
   "name": "python",
   "nbconvert_exporter": "python",
   "pygments_lexer": "ipython3",
   "version": "3.8.5"
  },
  "latex_envs": {
   "LaTeX_envs_menu_present": true,
   "autoclose": false,
   "autocomplete": true,
   "bibliofile": "biblio.bib",
   "cite_by": "apalike",
   "current_citInitial": 1,
   "eqLabelWithNumbers": true,
   "eqNumInitial": 1,
   "hotkeys": {
    "equation": "Ctrl-E",
    "itemize": "Ctrl-I"
   },
   "labels_anchors": false,
   "latex_user_defs": false,
   "report_style_numbering": false,
   "user_envs_cfg": false
  }
 },
 "nbformat": 4,
 "nbformat_minor": 4
}
