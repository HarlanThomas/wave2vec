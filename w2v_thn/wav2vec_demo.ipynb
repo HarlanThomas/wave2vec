{
 "cells": [
  {
   "cell_type": "code",
   "execution_count": 2,
   "metadata": {
    "ExecuteTime": {
     "end_time": "2020-11-05T09:25:40.219411Z",
     "start_time": "2020-11-05T09:25:39.727359Z"
    }
   },
   "outputs": [
    {
     "name": "stdout",
     "output_type": "stream",
     "text": [
      "Thu Nov  5 17:25:40 2020       \r\n",
      "+-----------------------------------------------------------------------------+\r\n",
      "| NVIDIA-SMI 440.33.01    Driver Version: 440.33.01    CUDA Version: 10.2     |\r\n",
      "|-------------------------------+----------------------+----------------------+\r\n",
      "| GPU  Name        Persistence-M| Bus-Id        Disp.A | Volatile Uncorr. ECC |\r\n",
      "| Fan  Temp  Perf  Pwr:Usage/Cap|         Memory-Usage | GPU-Util  Compute M. |\r\n",
      "|===============================+======================+======================|\r\n",
      "|   0  TITAN RTX           On   | 00000000:68:00.0  On |                  N/A |\r\n",
      "| 41%   32C    P8    24W / 280W |    221MiB / 24217MiB |      6%      Default |\r\n",
      "+-------------------------------+----------------------+----------------------+\r\n",
      "                                                                               \r\n",
      "+-----------------------------------------------------------------------------+\r\n",
      "| Processes:                                                       GPU Memory |\r\n",
      "|  GPU       PID   Type   Process name                             Usage      |\r\n",
      "|=============================================================================|\r\n",
      "|    0      1147      G   /usr/lib/xorg/Xorg                           104MiB |\r\n",
      "|    0      1438      G   /usr/bin/gnome-shell                          99MiB |\r\n",
      "|    0     11446      G   /home/titan/soft/matlab/bin/glnxa64/MATLAB     3MiB |\r\n",
      "|    0     12654      G   ...-token=B119C2E1DF6BC8DB30A02672F6236BC0    11MiB |\r\n",
      "+-----------------------------------------------------------------------------+\r\n"
     ]
    }
   ],
   "source": [
    "! nvidia-smi\n"
   ]
  },
  {
   "cell_type": "code",
   "execution_count": 3,
   "metadata": {
    "ExecuteTime": {
     "end_time": "2020-11-05T09:26:11.945525Z",
     "start_time": "2020-11-05T09:26:11.479442Z"
    }
   },
   "outputs": [
    {
     "name": "stdout",
     "output_type": "stream",
     "text": [
      "nvcc: NVIDIA (R) Cuda compiler driver\r\n",
      "Copyright (c) 2005-2019 NVIDIA Corporation\r\n",
      "Built on Wed_Oct_23_19:24:38_PDT_2019\r\n",
      "Cuda compilation tools, release 10.2, V10.2.89\r\n"
     ]
    }
   ],
   "source": [
    "! nvcc -V "
   ]
  },
  {
   "cell_type": "code",
   "execution_count": 4,
   "metadata": {
    "ExecuteTime": {
     "end_time": "2020-11-05T09:26:36.712139Z",
     "start_time": "2020-11-05T09:26:35.933405Z"
    }
   },
   "outputs": [],
   "source": [
    "import torch "
   ]
  },
  {
   "cell_type": "code",
   "execution_count": 5,
   "metadata": {
    "ExecuteTime": {
     "end_time": "2020-11-05T09:26:49.451686Z",
     "start_time": "2020-11-05T09:26:49.436412Z"
    }
   },
   "outputs": [
    {
     "data": {
      "text/plain": [
       "'1.7.0'"
      ]
     },
     "execution_count": 5,
     "metadata": {},
     "output_type": "execute_result"
    }
   ],
   "source": [
    "torch.__version__"
   ]
  },
  {
   "cell_type": "code",
   "execution_count": 6,
   "metadata": {
    "ExecuteTime": {
     "end_time": "2020-11-05T09:27:30.900581Z",
     "start_time": "2020-11-05T09:27:30.400182Z"
    }
   },
   "outputs": [],
   "source": [
    "import torch\n",
    "from fairseq.models.wav2vec import Wav2VecModel\n"
   ]
  },
  {
   "cell_type": "code",
   "execution_count": 7,
   "metadata": {
    "ExecuteTime": {
     "end_time": "2020-11-05T09:28:15.832537Z",
     "start_time": "2020-11-05T09:28:12.803390Z"
    }
   },
   "outputs": [
    {
     "data": {
      "text/plain": [
       "Wav2VecModel(\n",
       "  (feature_extractor): ConvFeatureExtractionModel(\n",
       "    (conv_layers): ModuleList(\n",
       "      (0): Sequential(\n",
       "        (0): Conv1d(1, 512, kernel_size=(10,), stride=(5,), bias=False)\n",
       "        (1): Dropout(p=0.0, inplace=False)\n",
       "        (2): Fp32GroupNorm(1, 512, eps=1e-05, affine=True)\n",
       "        (3): ReLU()\n",
       "      )\n",
       "      (1): Sequential(\n",
       "        (0): Conv1d(512, 512, kernel_size=(8,), stride=(4,), bias=False)\n",
       "        (1): Dropout(p=0.0, inplace=False)\n",
       "        (2): Fp32GroupNorm(1, 512, eps=1e-05, affine=True)\n",
       "        (3): ReLU()\n",
       "      )\n",
       "      (2): Sequential(\n",
       "        (0): Conv1d(512, 512, kernel_size=(4,), stride=(2,), bias=False)\n",
       "        (1): Dropout(p=0.0, inplace=False)\n",
       "        (2): Fp32GroupNorm(1, 512, eps=1e-05, affine=True)\n",
       "        (3): ReLU()\n",
       "      )\n",
       "      (3): Sequential(\n",
       "        (0): Conv1d(512, 512, kernel_size=(4,), stride=(2,), bias=False)\n",
       "        (1): Dropout(p=0.0, inplace=False)\n",
       "        (2): Fp32GroupNorm(1, 512, eps=1e-05, affine=True)\n",
       "        (3): ReLU()\n",
       "      )\n",
       "      (4): Sequential(\n",
       "        (0): Conv1d(512, 512, kernel_size=(4,), stride=(2,), bias=False)\n",
       "        (1): Dropout(p=0.0, inplace=False)\n",
       "        (2): Fp32GroupNorm(1, 512, eps=1e-05, affine=True)\n",
       "        (3): ReLU()\n",
       "      )\n",
       "      (5): Sequential(\n",
       "        (0): Conv1d(512, 512, kernel_size=(1,), stride=(1,), bias=False)\n",
       "        (1): Dropout(p=0.0, inplace=False)\n",
       "        (2): Fp32GroupNorm(1, 512, eps=1e-05, affine=True)\n",
       "        (3): ReLU()\n",
       "      )\n",
       "      (6): Sequential(\n",
       "        (0): Conv1d(512, 512, kernel_size=(1,), stride=(1,), bias=False)\n",
       "        (1): Dropout(p=0.0, inplace=False)\n",
       "        (2): Fp32GroupNorm(1, 512, eps=1e-05, affine=True)\n",
       "        (3): ReLU()\n",
       "      )\n",
       "    )\n",
       "  )\n",
       "  (feature_aggregator): ConvAggegator(\n",
       "    (conv_layers): Sequential(\n",
       "      (0): Sequential(\n",
       "        (0): ReplicationPad1d((1, 0))\n",
       "        (1): Conv1d(512, 512, kernel_size=(2,), stride=(1,))\n",
       "        (2): Dropout(p=0.0, inplace=False)\n",
       "        (3): Fp32GroupNorm(1, 512, eps=1e-05, affine=True)\n",
       "        (4): ReLU()\n",
       "      )\n",
       "      (1): Sequential(\n",
       "        (0): ReplicationPad1d((2, 0))\n",
       "        (1): Conv1d(512, 512, kernel_size=(3,), stride=(1,))\n",
       "        (2): Dropout(p=0.0, inplace=False)\n",
       "        (3): Fp32GroupNorm(1, 512, eps=1e-05, affine=True)\n",
       "        (4): ReLU()\n",
       "      )\n",
       "      (2): Sequential(\n",
       "        (0): ReplicationPad1d((3, 0))\n",
       "        (1): Conv1d(512, 512, kernel_size=(4,), stride=(1,))\n",
       "        (2): Dropout(p=0.0, inplace=False)\n",
       "        (3): Fp32GroupNorm(1, 512, eps=1e-05, affine=True)\n",
       "        (4): ReLU()\n",
       "      )\n",
       "      (3): Sequential(\n",
       "        (0): ReplicationPad1d((4, 0))\n",
       "        (1): Conv1d(512, 512, kernel_size=(5,), stride=(1,))\n",
       "        (2): Dropout(p=0.0, inplace=False)\n",
       "        (3): Fp32GroupNorm(1, 512, eps=1e-05, affine=True)\n",
       "        (4): ReLU()\n",
       "      )\n",
       "      (4): Sequential(\n",
       "        (0): ReplicationPad1d((5, 0))\n",
       "        (1): Conv1d(512, 512, kernel_size=(6,), stride=(1,))\n",
       "        (2): Dropout(p=0.0, inplace=False)\n",
       "        (3): Fp32GroupNorm(1, 512, eps=1e-05, affine=True)\n",
       "        (4): ReLU()\n",
       "      )\n",
       "      (5): Sequential(\n",
       "        (0): ReplicationPad1d((6, 0))\n",
       "        (1): Conv1d(512, 512, kernel_size=(7,), stride=(1,))\n",
       "        (2): Dropout(p=0.0, inplace=False)\n",
       "        (3): Fp32GroupNorm(1, 512, eps=1e-05, affine=True)\n",
       "        (4): ReLU()\n",
       "      )\n",
       "      (6): Sequential(\n",
       "        (0): ReplicationPad1d((7, 0))\n",
       "        (1): Conv1d(512, 512, kernel_size=(8,), stride=(1,))\n",
       "        (2): Dropout(p=0.0, inplace=False)\n",
       "        (3): Fp32GroupNorm(1, 512, eps=1e-05, affine=True)\n",
       "        (4): ReLU()\n",
       "      )\n",
       "      (7): Sequential(\n",
       "        (0): ReplicationPad1d((8, 0))\n",
       "        (1): Conv1d(512, 512, kernel_size=(9,), stride=(1,))\n",
       "        (2): Dropout(p=0.0, inplace=False)\n",
       "        (3): Fp32GroupNorm(1, 512, eps=1e-05, affine=True)\n",
       "        (4): ReLU()\n",
       "      )\n",
       "      (8): Sequential(\n",
       "        (0): ReplicationPad1d((9, 0))\n",
       "        (1): Conv1d(512, 512, kernel_size=(10,), stride=(1,))\n",
       "        (2): Dropout(p=0.0, inplace=False)\n",
       "        (3): Fp32GroupNorm(1, 512, eps=1e-05, affine=True)\n",
       "        (4): ReLU()\n",
       "      )\n",
       "      (9): Sequential(\n",
       "        (0): ReplicationPad1d((10, 0))\n",
       "        (1): Conv1d(512, 512, kernel_size=(11,), stride=(1,))\n",
       "        (2): Dropout(p=0.0, inplace=False)\n",
       "        (3): Fp32GroupNorm(1, 512, eps=1e-05, affine=True)\n",
       "        (4): ReLU()\n",
       "      )\n",
       "      (10): Sequential(\n",
       "        (0): ReplicationPad1d((11, 0))\n",
       "        (1): Conv1d(512, 512, kernel_size=(12,), stride=(1,))\n",
       "        (2): Dropout(p=0.0, inplace=False)\n",
       "        (3): Fp32GroupNorm(1, 512, eps=1e-05, affine=True)\n",
       "        (4): ReLU()\n",
       "      )\n",
       "      (11): Sequential(\n",
       "        (0): ReplicationPad1d((12, 0))\n",
       "        (1): Conv1d(512, 512, kernel_size=(13,), stride=(1,))\n",
       "        (2): Dropout(p=0.0, inplace=False)\n",
       "        (3): Fp32GroupNorm(1, 512, eps=1e-05, affine=True)\n",
       "        (4): ReLU()\n",
       "      )\n",
       "    )\n",
       "    (residual_proj): ModuleList(\n",
       "      (0): None\n",
       "      (1): None\n",
       "      (2): None\n",
       "      (3): None\n",
       "      (4): None\n",
       "      (5): None\n",
       "      (6): None\n",
       "      (7): None\n",
       "      (8): None\n",
       "      (9): None\n",
       "      (10): None\n",
       "      (11): None\n",
       "    )\n",
       "  )\n",
       "  (wav2vec_predictions): Wav2VecPredictionsModel(\n",
       "    (project_to_steps): ConvTranspose2d(512, 512, kernel_size=(1, 12), stride=(1, 1))\n",
       "    (dropout): Dropout(p=0.0, inplace=False)\n",
       "  )\n",
       "  (dropout_feats): Dropout(p=0.0, inplace=False)\n",
       "  (dropout_agg): Dropout(p=0.0, inplace=False)\n",
       ")"
      ]
     },
     "execution_count": 7,
     "metadata": {},
     "output_type": "execute_result"
    }
   ],
   "source": [
    "cp = torch.load('./wav2vec_large.pt')\n",
    "model = Wav2VecModel.build_model(cp['args'], task=None)\n",
    "model.load_state_dict(cp['model'])\n",
    "model.eval()\n"
   ]
  },
  {
   "cell_type": "code",
   "execution_count": 8,
   "metadata": {
    "ExecuteTime": {
     "end_time": "2020-11-05T09:28:30.565833Z",
     "start_time": "2020-11-05T09:28:30.483012Z"
    }
   },
   "outputs": [],
   "source": [
    "wav_input_16khz = torch.randn(1,10000)\n",
    "z = model.feature_extractor(wav_input_16khz)\n",
    "c = model.feature_aggregator(z)\n"
   ]
  },
  {
   "cell_type": "code",
   "execution_count": 9,
   "metadata": {
    "ExecuteTime": {
     "end_time": "2020-11-05T09:28:40.583621Z",
     "start_time": "2020-11-05T09:28:40.563342Z"
    },
    "scrolled": true
   },
   "outputs": [
    {
     "data": {
      "text/plain": [
       "tensor([[[2.6430e-02, 3.0052e-02, 1.8960e-02,  ..., 2.5156e-02,\n",
       "          2.3039e-02, 2.3239e-02],\n",
       "         [7.7549e-04, 6.4567e-04, 2.5799e-02,  ..., 3.9835e-02,\n",
       "          3.7509e-04, 1.2963e-02],\n",
       "         [9.1929e-03, 6.6567e-03, 2.3812e-04,  ..., 0.0000e+00,\n",
       "          5.1584e-03, 0.0000e+00],\n",
       "         ...,\n",
       "         [0.0000e+00, 9.9127e-04, 1.4135e-02,  ..., 3.8296e-05,\n",
       "          3.2391e-04, 5.6996e-04],\n",
       "         [2.6811e-02, 3.1821e-02, 1.8226e-01,  ..., 1.8835e-01,\n",
       "          2.3990e-01, 2.0941e-01],\n",
       "         [2.4291e-01, 2.2769e-01, 2.7530e-01,  ..., 3.3743e-01,\n",
       "          3.3899e-01, 3.5276e-01]]], grad_fn=<MulBackward0>)"
      ]
     },
     "execution_count": 9,
     "metadata": {},
     "output_type": "execute_result"
    }
   ],
   "source": [
    "c"
   ]
  },
  {
   "cell_type": "code",
   "execution_count": null,
   "metadata": {},
   "outputs": [],
   "source": []
  },
  {
   "cell_type": "code",
   "execution_count": null,
   "metadata": {},
   "outputs": [],
   "source": []
  },
  {
   "cell_type": "code",
   "execution_count": null,
   "metadata": {},
   "outputs": [],
   "source": []
  },
  {
   "cell_type": "code",
   "execution_count": null,
   "metadata": {},
   "outputs": [],
   "source": []
  }
 ],
 "metadata": {
  "kernelspec": {
   "display_name": "Python 3",
   "language": "python",
   "name": "python3"
  },
  "language_info": {
   "codemirror_mode": {
    "name": "ipython",
    "version": 3
   },
   "file_extension": ".py",
   "mimetype": "text/x-python",
   "name": "python",
   "nbconvert_exporter": "python",
   "pygments_lexer": "ipython3",
   "version": "3.8.5"
  }
 },
 "nbformat": 4,
 "nbformat_minor": 4
}
